{
 "cells": [
  {
   "cell_type": "code",
   "execution_count": null,
   "id": "d85bd535",
   "metadata": {},
   "outputs": [],
   "source": [
    "import requests\n",
    "from bs4 import BeautifulSoup as BS\n",
    "import pandas as pd\n",
    "import matplotlib.pyplot as plt\n",
    "import seaborn as sns\n",
    "import numpy as np"
   ]
  },
  {
   "cell_type": "code",
   "execution_count": null,
   "id": "761ba67e",
   "metadata": {},
   "outputs": [],
   "source": [
    "URL = 'https://countrymusichalloffame.org/hall-of-fame/members/'\n",
    "\n",
    "response = requests.get(URL)"
   ]
  },
  {
   "cell_type": "code",
   "execution_count": null,
   "id": "a44d4507",
   "metadata": {},
   "outputs": [],
   "source": [
    "response.status_code"
   ]
  },
  {
   "cell_type": "code",
   "execution_count": null,
   "id": "e1556060",
   "metadata": {},
   "outputs": [],
   "source": [
    "response.text"
   ]
  },
  {
   "cell_type": "code",
   "execution_count": null,
   "id": "b453ae12",
   "metadata": {},
   "outputs": [],
   "source": [
    "soup = BS(response.text)\n",
    "soup"
   ]
  },
  {
   "cell_type": "code",
   "execution_count": null,
   "id": "32945842",
   "metadata": {},
   "outputs": [],
   "source": [
    "print(soup.prettify())"
   ]
  },
  {
   "cell_type": "code",
   "execution_count": null,
   "id": "52ef7700",
   "metadata": {},
   "outputs": [],
   "source": [
    "names = soup.findAll('h3')\n",
    "names"
   ]
  },
  {
   "cell_type": "code",
   "execution_count": null,
   "id": "10ed90cd",
   "metadata": {},
   "outputs": [],
   "source": [
    "page = 1\n",
    "names = []\n",
    "while page != 17:\n",
    "    URL = f\"https://countrymusichalloffame.org/hall-of-fame/members/page/{page}\"\n",
    "    response = requests.get(URL)\n",
    "    html = response.content\n",
    "    soup = BS(html, 'lxml')\n",
    "    for h3 in soup.findAll('h3'):\n",
    "        names.append(h3.get_text(strip=True))\n",
    "    page = page + 1\n",
    "    "
   ]
  },
  {
   "cell_type": "code",
   "execution_count": null,
   "id": "8ffd1de4",
   "metadata": {},
   "outputs": [],
   "source": [
    "len(names)"
   ]
  },
  {
   "cell_type": "code",
   "execution_count": null,
   "id": "d1a63499",
   "metadata": {},
   "outputs": [],
   "source": [
    "names"
   ]
  },
  {
   "cell_type": "code",
   "execution_count": null,
   "id": "dd375b26",
   "metadata": {},
   "outputs": [],
   "source": [
    "page = 1\n",
    "year = []\n",
    "while page != 17:\n",
    "    URL = f\"https://countrymusichalloffame.org/hall-of-fame/members/page/{page}\"\n",
    "    response = requests.get(URL)\n",
    "    html = response.content\n",
    "    soup = BS(html, 'lxml')\n",
    "    for p in soup.findAll('p')[3:12]:\n",
    "        year.append(p.get_text(strip=True)[9:13])\n",
    "    page = page + 1"
   ]
  },
  {
   "cell_type": "code",
   "execution_count": null,
   "id": "09bb7e97",
   "metadata": {},
   "outputs": [],
   "source": [
    "year"
   ]
  },
  {
   "cell_type": "code",
   "execution_count": null,
   "id": "9d3935e7",
   "metadata": {},
   "outputs": [],
   "source": [
    "year.pop()     #Popped last item in list due to -1 musician count on last page\n",
    "year"
   ]
  },
  {
   "cell_type": "markdown",
   "id": "3f21bfec",
   "metadata": {},
   "source": [
    "# Used Zip to merge two lists into a dataframe"
   ]
  },
  {
   "cell_type": "code",
   "execution_count": null,
   "id": "78c446a8",
   "metadata": {},
   "outputs": [],
   "source": [
    "music_hof = pd.DataFrame(list(zip(names, year)),\n",
    "                        columns = ['Name', 'Year'])\n",
    "music_hof"
   ]
  },
  {
   "cell_type": "code",
   "execution_count": null,
   "id": "bb2c2f1d",
   "metadata": {},
   "outputs": [],
   "source": [
    "#music_hof.replace(to_replace = '\\u200b', value = '', inplace=True)  #Unicode error infront of Jerry Reed (Index = 94)\n",
    "                                                                    #Fixed when zipped from list to dataframe, did not need"
   ]
  },
  {
   "cell_type": "code",
   "execution_count": null,
   "id": "1a78d20f",
   "metadata": {},
   "outputs": [],
   "source": [
    "music_hof.info()"
   ]
  },
  {
   "cell_type": "code",
   "execution_count": null,
   "id": "a66d037e",
   "metadata": {},
   "outputs": [],
   "source": [
    "#music_hof['Year'] = music_hof['Year'].apply(pd.to_datetime)\n",
    "#music_hof.info()"
   ]
  },
  {
   "cell_type": "code",
   "execution_count": null,
   "id": "a93cc9b2",
   "metadata": {},
   "outputs": [],
   "source": [
    "music_hof['Year'].value_counts().sort_index().plot(kind = 'bar',\n",
    "                                    figsize = (17,8), color =['cornflowerblue', 'coral', 'pink'])\n",
    "plt.yticks(fontsize = 12)\n",
    "plt.xticks(fontsize = 12)\n",
    "plt.title('Hall Of Famers Inducted per Year',\n",
    "         fontsize = 14,\n",
    "         fontweight = 'bold')"
   ]
  },
  {
   "cell_type": "code",
   "execution_count": null,
   "id": "fc2373f8",
   "metadata": {},
   "outputs": [],
   "source": []
  }
 ],
 "metadata": {
  "kernelspec": {
   "display_name": "Python 3 (ipykernel)",
   "language": "python",
   "name": "python3"
  },
  "language_info": {
   "codemirror_mode": {
    "name": "ipython",
    "version": 3
   },
   "file_extension": ".py",
   "mimetype": "text/x-python",
   "name": "python",
   "nbconvert_exporter": "python",
   "pygments_lexer": "ipython3",
   "version": "3.9.7"
  }
 },
 "nbformat": 4,
 "nbformat_minor": 5
}
